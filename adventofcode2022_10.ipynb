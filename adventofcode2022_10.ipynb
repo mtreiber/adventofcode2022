{
  "cells": [
    {
      "cell_type": "markdown",
      "metadata": {
        "id": "view-in-github",
        "colab_type": "text"
      },
      "source": [
        "<a href=\"https://colab.research.google.com/github/mtreiber/adventofcode2022/blob/main/adventofcode2022_10.ipynb\" target=\"_parent\"><img src=\"https://colab.research.google.com/assets/colab-badge.svg\" alt=\"Open In Colab\"/></a>"
      ]
    },
    {
      "cell_type": "code",
      "execution_count": 1,
      "metadata": {
        "id": "bE-YpjnvQvft"
      },
      "outputs": [],
      "source": [
        "%load_ext autoreload\n",
        "%autoreload 2\n",
        "%matplotlib inline"
      ]
    },
    {
      "cell_type": "code",
      "execution_count": 2,
      "metadata": {
        "id": "hjoBvGuNUDtK"
      },
      "outputs": [],
      "source": [
        "import numpy as np\n",
        "import csv\n",
        "import math\n",
        "import struct\n",
        "import matplotlib.pyplot as plt\n",
        "import os\n",
        "import urllib\n"
      ]
    },
    {
      "cell_type": "code",
      "execution_count": 3,
      "metadata": {
        "colab": {
          "base_uri": "https://localhost:8080/"
        },
        "id": "Jcp9apO-UD3x",
        "outputId": "3488b60b-84fc-4630-d854-25c717c51f20"
      },
      "outputs": [
        {
          "output_type": "stream",
          "name": "stdout",
          "text": [
            "[420.0, 1020.0, 2100.0, 2940.0, 1440.0, 4620.0]\n",
            "12540\n"
          ]
        }
      ],
      "source": [
        "f_github = 'https://raw.githubusercontent.com/mtreiber/adventofcode2022/main/day10.txt'\n",
        "\n",
        "size = 10000\n",
        "register_x = np.ones(size)\n",
        "#print(register_x)\n",
        "\n",
        "cycle=1\n",
        "\n",
        "for lr in urllib.request.urlopen(f_github):\n",
        "  l = lr.decode(\"utf-8\").strip()\n",
        "  #print(l)\n",
        "\n",
        "  cmd = l.split()\n",
        "  #print(cmd)\n",
        "  if cmd[0]=='addx':\n",
        "    register_x[cycle+1]=register_x[cycle]\n",
        "    register_x[cycle+2]=register_x[cycle]+int(cmd[1])\n",
        "    cycle=cycle+2\n",
        "  elif cmd[0]==\"noop\":\n",
        "    register_x[cycle+1]=register_x[cycle]\n",
        "    cycle=cycle+1\n",
        "\n",
        "  if cycle>10000:\n",
        "    print(register_x[:cycle])\n",
        "    break\n",
        "\n",
        "signals = [20, 60, 100, 140, 180, 220]\n",
        "signals_strengths = [0,0,0,0,0,0]\n",
        "for i in range(6):\n",
        "  signals_strengths[i] = signals[i]*register_x[signals[i]]\n",
        "print(signals_strengths)\n",
        "print(int(np.sum(signals_strengths)))\n"
      ]
    },
    {
      "cell_type": "code",
      "source": [
        "f_github = 'https://raw.githubusercontent.com/mtreiber/adventofcode2022/main/day10.txt'\n",
        "\n",
        "size = 10000\n",
        "register_x = np.ones(size)\n",
        "#print(register_x)\n",
        "\n",
        "cycle=1\n",
        "row=0\n",
        "line=''\n",
        "\n",
        "class Crt():\n",
        "  def __init__(self):\n",
        "    self.row=0\n",
        "    self.line=''\n",
        "  def process(self,register_x,cycle):\n",
        "    if abs(register_x[cycle]-(cycle-self.row*40)+1)<=1:\n",
        "      self.line=self.line+\"#\"\n",
        "    else:\n",
        "      self.line=self.line+\".\"\n",
        "    if cycle-self.row*40>=40:\n",
        "      self.row=self.row+1\n",
        "      print(self.line)\n",
        "      self.line=''\n",
        "\n",
        "crt=Crt()\n",
        "\n",
        "for lr in urllib.request.urlopen(f_github):\n",
        "  l = lr.decode(\"utf-8\").strip()\n",
        "  #print(l)\n",
        "\n",
        "  cmd = l.split()\n",
        "  #print(cmd)\n",
        "  if cmd[0]=='addx':\n",
        "    crt.process(register_x,cycle)\n",
        "    register_x[cycle+1]=register_x[cycle]\n",
        "    \n",
        "    cycle=cycle+1\n",
        "    \n",
        "    crt.process(register_x,cycle)\n",
        "    register_x[cycle+1]=register_x[cycle]+int(cmd[1])\n",
        "    \n",
        "    cycle=cycle+1\n",
        "\n",
        "\n",
        "  elif cmd[0]==\"noop\":\n",
        "    crt.process(register_x,cycle)\n",
        "    register_x[cycle+1]=register_x[cycle]\n",
        "    \n",
        "    cycle=cycle+1"
      ],
      "metadata": {
        "colab": {
          "base_uri": "https://localhost:8080/"
        },
        "id": "NJLAHEQzidfx",
        "outputId": "711acb04-cc36-48c7-a935-a537d6e15e19"
      },
      "execution_count": 11,
      "outputs": [
        {
          "output_type": "stream",
          "name": "stdout",
          "text": [
            "####.####..##..####.####.#....#..#.####.\n",
            "#....#....#..#....#.#....#....#..#.#....\n",
            "###..###..#......#..###..#....####.###..\n",
            "#....#....#.....#...#....#....#..#.#....\n",
            "#....#....#..#.#....#....#....#..#.#....\n",
            "#....####..##..####.####.####.#..#.####.\n"
          ]
        }
      ]
    }
  ],
  "metadata": {
    "colab": {
      "provenance": [],
      "authorship_tag": "ABX9TyOzaXrxyoSLyxiLuz0ivMHa",
      "include_colab_link": true
    },
    "kernelspec": {
      "display_name": "Python 3",
      "name": "python3"
    },
    "language_info": {
      "name": "python"
    }
  },
  "nbformat": 4,
  "nbformat_minor": 0
}