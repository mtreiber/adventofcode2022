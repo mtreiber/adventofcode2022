{
  "nbformat": 4,
  "nbformat_minor": 0,
  "metadata": {
    "colab": {
      "provenance": [],
      "authorship_tag": "ABX9TyPlLFhYFbup4xLcI2jX4/8N",
      "include_colab_link": true
    },
    "kernelspec": {
      "name": "python3",
      "display_name": "Python 3"
    },
    "language_info": {
      "name": "python"
    }
  },
  "cells": [
    {
      "cell_type": "markdown",
      "metadata": {
        "id": "view-in-github",
        "colab_type": "text"
      },
      "source": [
        "<a href=\"https://colab.research.google.com/github/mtreiber/adventofcode2022/blob/main/adventofcode2022_6.ipynb\" target=\"_parent\"><img src=\"https://colab.research.google.com/assets/colab-badge.svg\" alt=\"Open In Colab\"/></a>"
      ]
    },
    {
      "cell_type": "code",
      "execution_count": 1,
      "metadata": {
        "id": "bE-YpjnvQvft"
      },
      "outputs": [],
      "source": [
        "%load_ext autoreload\n",
        "%autoreload 2\n",
        "%matplotlib inline"
      ]
    },
    {
      "cell_type": "code",
      "source": [
        "import numpy as np\n",
        "import csv\n",
        "import math\n",
        "import struct\n",
        "import matplotlib.pyplot as plt\n",
        "import os\n",
        "import urllib\n"
      ],
      "metadata": {
        "id": "cnrddm20PTsY"
      },
      "execution_count": 4,
      "outputs": []
    },
    {
      "cell_type": "code",
      "source": [
        "f_github = 'https://raw.githubusercontent.com/mtreiber/adventofcode2022/main/day6.txt'\n",
        "\n",
        "f = urllib.request.urlopen(f_github)\n",
        "\n",
        "count = 0\n",
        "buffer = []\n",
        "while 1:\n",
        "  count = count+1\n",
        "  c = f.read(1)\n",
        "\n",
        "  buffer.append(c)\n",
        "  if len(buffer)>4:\n",
        "    buffer.pop(0)\n",
        "\n",
        "    if (buffer.count(buffer[0])==1 and buffer.count(buffer[1])==1 and buffer.count(buffer[2])==1):\n",
        "      break\n",
        "\n",
        "print(buffer)\n",
        "print(count)"
      ],
      "metadata": {
        "id": "hjoBvGuNUDtK",
        "colab": {
          "base_uri": "https://localhost:8080/"
        },
        "outputId": "0dd6db87-198b-4057-989c-c26714d450b9"
      },
      "execution_count": 11,
      "outputs": [
        {
          "output_type": "stream",
          "name": "stdout",
          "text": [
            "[b'z', b'j', b'w', b'p']\n",
            "1640\n"
          ]
        }
      ]
    },
    {
      "cell_type": "code",
      "source": [
        "f_github = 'https://raw.githubusercontent.com/mtreiber/adventofcode2022/main/day6.txt'\n",
        "\n",
        "f = urllib.request.urlopen(f_github)\n",
        "\n",
        "count = 0\n",
        "buffer = []\n",
        "while 1:\n",
        "  count = count+1\n",
        "  c = f.read(1)\n",
        "\n",
        "  buffer.append(c)\n",
        "  if len(buffer)>14:\n",
        "    buffer.pop(0)\n",
        "\n",
        "    if (buffer.count(buffer[0])==1 \n",
        "        and buffer.count(buffer[1])==1 \n",
        "        and buffer.count(buffer[2])==1 \n",
        "        and buffer.count(buffer[3])==1 \n",
        "        and buffer.count(buffer[4])==1 \n",
        "        and buffer.count(buffer[5])==1 \n",
        "        and buffer.count(buffer[6])==1 \n",
        "        and buffer.count(buffer[7])==1\n",
        "        and buffer.count(buffer[8])==1\n",
        "        and buffer.count(buffer[9])==1\n",
        "        and buffer.count(buffer[10])==1\n",
        "        and buffer.count(buffer[11])==1\n",
        "        and buffer.count(buffer[12])==1\n",
        "        and buffer.count(buffer[13])==1 ):\n",
        "      break\n",
        "\n",
        "print(buffer)\n",
        "print(count)"
      ],
      "metadata": {
        "id": "XSyy6KheG1j2",
        "colab": {
          "base_uri": "https://localhost:8080/"
        },
        "outputId": "e33bf21d-ae22-4ed6-963f-58c8ff4432e7"
      },
      "execution_count": 13,
      "outputs": [
        {
          "output_type": "stream",
          "name": "stdout",
          "text": [
            "[b'f', b'g', b's', b'p', b'b', b'v', b't', b'd', b'j', b'r', b'w', b'z', b'n', b'c']\n",
            "3613\n"
          ]
        }
      ]
    }
  ]
}