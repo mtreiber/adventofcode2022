{
  "nbformat": 4,
  "nbformat_minor": 0,
  "metadata": {
    "colab": {
      "provenance": [],
      "authorship_tag": "ABX9TyP7b1sWumoOAqxKfDHrMxRR",
      "include_colab_link": true
    },
    "kernelspec": {
      "name": "python3",
      "display_name": "Python 3"
    },
    "language_info": {
      "name": "python"
    }
  },
  "cells": [
    {
      "cell_type": "markdown",
      "metadata": {
        "id": "view-in-github",
        "colab_type": "text"
      },
      "source": [
        "<a href=\"https://colab.research.google.com/github/mtreiber/adventofcode2022/blob/main/adventofcode2022_8.ipynb\" target=\"_parent\"><img src=\"https://colab.research.google.com/assets/colab-badge.svg\" alt=\"Open In Colab\"/></a>"
      ]
    },
    {
      "cell_type": "code",
      "execution_count": 6,
      "metadata": {
        "id": "bE-YpjnvQvft"
      },
      "outputs": [],
      "source": [
        "%load_ext autoreload\n",
        "%autoreload 2\n",
        "%matplotlib inline"
      ]
    },
    {
      "cell_type": "code",
      "source": [
        "import numpy as np\n",
        "import csv\n",
        "import math\n",
        "import struct\n",
        "import matplotlib.pyplot as plt\n",
        "import os\n",
        "import urllib\n"
      ],
      "metadata": {
        "id": "hjoBvGuNUDtK"
      },
      "execution_count": 7,
      "outputs": []
    },
    {
      "cell_type": "code",
      "source": [
        "from traitlets.config import T\n",
        "f_github = 'https://raw.githubusercontent.com/mtreiber/adventofcode2022/main/day8.txt'\n",
        "\n",
        "forest = []\n",
        "\n",
        "for lr in urllib.request.urlopen(f_github):\n",
        "  l = lr.decode(\"utf-8\").strip()\n",
        "  #print(l)\n",
        "\n",
        "  forest.append(list(map(int,list(l))))\n",
        "\n",
        "# convert to np array\n",
        "forest = np.transpose(np.array(forest))\n",
        "#print(forest.shape)\n",
        "\n",
        "count = np.zeros(forest.shape)\n",
        "\n",
        "# calc number of trees inside\n",
        "num_internal = 0\n",
        "for y in np.arange(0,forest.shape[1]):\n",
        "  for x in np.arange(0,forest.shape[0]):\n",
        "    if x==0 or x==forest.shape[1]-1 or y==0 or y==forest.shape[0]-1:\n",
        "      # Edge\n",
        "      count[x,y] = 1\n",
        "    else:\n",
        "      # check north\n",
        "      visible_north = True\n",
        "      for i in range(0,y):\n",
        "        if forest[x,i]>=forest[x,y]:\n",
        "          visible_north = False\n",
        "      # check south\n",
        "      visible_south = True\n",
        "      for i in range(y+1,forest.shape[1]):\n",
        "        if forest[x,i]>=forest[x,y]:\n",
        "          visible_south = False\n",
        "      # check west\n",
        "      visible_west = True\n",
        "      for i in range(0,x):\n",
        "        if forest[i,y]>=forest[x,y]:\n",
        "          visible_west = False\n",
        "      # check east\n",
        "      visible_east = True\n",
        "      for i in range(x+1,forest.shape[0]):\n",
        "        if forest[i,y]>=forest[x,y]:\n",
        "          visible_east = False\n",
        "      \n",
        "      # Count\n",
        "      if visible_north or visible_south or visible_west or visible_east:\n",
        "        count[x,y]=1\n",
        "\n",
        "int(np.sum(count))"
      ],
      "metadata": {
        "colab": {
          "base_uri": "https://localhost:8080/"
        },
        "id": "Jcp9apO-UD3x",
        "outputId": "509cc46c-366f-4ef5-968f-321f6ed18706"
      },
      "execution_count": 8,
      "outputs": [
        {
          "output_type": "execute_result",
          "data": {
            "text/plain": [
              "1820"
            ]
          },
          "metadata": {},
          "execution_count": 8
        }
      ]
    },
    {
      "cell_type": "code",
      "source": [
        "score = np.zeros(forest.shape)\n",
        "\n",
        "#calculate score\n",
        "for y in np.arange(0,forest.shape[1]):\n",
        "  for x in np.arange(0,forest.shape[0]):\n",
        "    # Calculate north\n",
        "    score_north = 0\n",
        "    if y != 0:\n",
        "      for i in range(y-1,-1,-1):\n",
        "        score_north = score_north + 1\n",
        "        if forest[x,i]>=forest[x,y]:\n",
        "          break\n",
        "    # Calculate south\n",
        "    score_south = 0\n",
        "    if y != forest.shape[1]-1:\n",
        "      for i in range(y+1,forest.shape[1],1):\n",
        "        score_south = score_south + 1\n",
        "        if forest[x,i]>=forest[x,y]:\n",
        "          break\n",
        "\n",
        "    # Calculate west\n",
        "    score_west = 0\n",
        "    if x != 0:\n",
        "      for i in range(x-1,-1,-1):\n",
        "        score_west = score_west + 1\n",
        "        if forest[i,y]>=forest[x,y]:\n",
        "          break\n",
        "\n",
        "    # Calcualte east\n",
        "    score_east = 0\n",
        "    if x != forest.shape[0]-1:\n",
        "      for i in range(x+1,forest.shape[0],1):\n",
        "        score_east = score_east + 1\n",
        "        if forest[i,y]>=forest[x,y]:\n",
        "          break\n",
        "\n",
        "\n",
        "    score[x,y] = score_north * score_south * score_west * score_east\n",
        "\n",
        "print(np.max(score))"
      ],
      "metadata": {
        "colab": {
          "base_uri": "https://localhost:8080/"
        },
        "id": "Cg04tiiq9d5v",
        "outputId": "501a38bd-e51a-49a2-fd56-05ec70d002b5"
      },
      "execution_count": 16,
      "outputs": [
        {
          "output_type": "stream",
          "name": "stdout",
          "text": [
            "385112.0\n"
          ]
        }
      ]
    },
    {
      "cell_type": "code",
      "source": [
        "print(list(range(0,-1,-1)))"
      ],
      "metadata": {
        "colab": {
          "base_uri": "https://localhost:8080/"
        },
        "id": "3MRx4JHH_Ern",
        "outputId": "0c404b73-1f27-4127-80a6-e6ce65da3445"
      },
      "execution_count": 4,
      "outputs": [
        {
          "output_type": "stream",
          "name": "stdout",
          "text": [
            "[0]\n"
          ]
        }
      ]
    }
  ]
}