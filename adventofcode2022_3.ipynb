{
  "nbformat": 4,
  "nbformat_minor": 0,
  "metadata": {
    "colab": {
      "provenance": [],
      "authorship_tag": "ABX9TyOeubUJrLkakVfXxJfrkrAL",
      "include_colab_link": true
    },
    "kernelspec": {
      "name": "python3",
      "display_name": "Python 3"
    },
    "language_info": {
      "name": "python"
    }
  },
  "cells": [
    {
      "cell_type": "markdown",
      "metadata": {
        "id": "view-in-github",
        "colab_type": "text"
      },
      "source": [
        "<a href=\"https://colab.research.google.com/github/mtreiber/adventofcode2022/blob/main/adventofcode2022_3.ipynb\" target=\"_parent\"><img src=\"https://colab.research.google.com/assets/colab-badge.svg\" alt=\"Open In Colab\"/></a>"
      ]
    },
    {
      "cell_type": "code",
      "execution_count": 10,
      "metadata": {
        "id": "bE-YpjnvQvft"
      },
      "outputs": [],
      "source": [
        "%load_ext autoreload\n",
        "%autoreload 2\n",
        "%matplotlib inline"
      ]
    },
    {
      "cell_type": "code",
      "source": [
        "import numpy as np\n",
        "import csv\n",
        "import math\n",
        "import struct\n",
        "import matplotlib.pyplot as plt\n",
        "import os\n",
        "import urllib\n"
      ],
      "metadata": {
        "id": "hjoBvGuNUDtK"
      },
      "execution_count": 11,
      "outputs": []
    },
    {
      "cell_type": "code",
      "source": [
        "def priority(letter):\n",
        "  asc = ord(letter)\n",
        "  if asc<92:\n",
        "    #capital letter\n",
        "    return asc-65+27\n",
        "  else:\n",
        "    #lower case letter\n",
        "    return asc-97+1\n",
        "\n",
        "#test\n",
        "#print('A: {}'.format(priority('A')))\n",
        "#print('a: {}'.format(priority('a')))"
      ],
      "metadata": {
        "colab": {
          "base_uri": "https://localhost:8080/"
        },
        "id": "CubqDRLT188W",
        "outputId": "4392753d-19fd-4452-b79b-421eac133ce7"
      },
      "execution_count": 7,
      "outputs": [
        {
          "output_type": "stream",
          "name": "stdout",
          "text": [
            "A: 27\n",
            "a: 1\n"
          ]
        }
      ]
    },
    {
      "cell_type": "code",
      "source": [
        "f_github = 'https://raw.githubusercontent.com/mtreiber/adventofcode2022/main/day3.txt'\n",
        "\n",
        "#for l in open(f):\n",
        "count = 0\n",
        "sum = 0\n",
        "for lr in urllib.request.urlopen(f_github):\n",
        "  l = lr.decode(\"utf-8\").strip()\n",
        "\n",
        "  half_items = int(len(l)/2)\n",
        "  c1 = sorted(l[:half_items])\n",
        "  c2 = sorted(l[half_items:])\n",
        "\n",
        "  c1_no_dup = list(dict.fromkeys(c1))\n",
        "  c2_no_dup = list(dict.fromkeys(c2))\n",
        "  \n",
        "  #print('{} {}'.format(c1,c2))\n",
        "  #print('{} {}'.format(c1_no_dup,c2_no_dup))\n",
        "\n",
        "  dup_list = []\n",
        "\n",
        "  for i in c1_no_dup:\n",
        "    for j in c2_no_dup:\n",
        "      if i==j:\n",
        "        dup_list.append(i)\n",
        "\n",
        "  #print(dup_list)\n",
        "  sum = sum + priority(dup_list[0])\n",
        "  \n",
        "  count=count+1\n",
        "  if count>10000:\n",
        "    break\n",
        "\n",
        "print(sum)"
      ],
      "metadata": {
        "colab": {
          "base_uri": "https://localhost:8080/"
        },
        "id": "Jcp9apO-UD3x",
        "outputId": "36e8fc95-eb6a-4a93-b7eb-9e92d9518864"
      },
      "execution_count": 15,
      "outputs": [
        {
          "output_type": "stream",
          "name": "stdout",
          "text": [
            "8515\n"
          ]
        }
      ]
    },
    {
      "cell_type": "code",
      "source": [
        "f_github = 'https://raw.githubusercontent.com/mtreiber/adventofcode2022/main/day3.txt'\n",
        "\n",
        "#for l in open(f):\n",
        "sum = 0\n",
        "f = urllib.request.urlopen(f_github)\n",
        "while 1:\n",
        "  l1 = f.readline().decode(\"utf-8\").strip()\n",
        "  if len(l1)==0:\n",
        "    break\n",
        "  l2 = f.readline().decode(\"utf-8\").strip()\n",
        "  l3 = f.readline().decode(\"utf-8\").strip()\n",
        "\n",
        "  for i in l1:\n",
        "    for j in l2:\n",
        "      if i==j:\n",
        "        for k in l3:\n",
        "          if i==k:\n",
        "            dup = i\n",
        "\n",
        "  sum = sum + priority(dup)\n",
        "print(sum)"
      ],
      "metadata": {
        "colab": {
          "base_uri": "https://localhost:8080/"
        },
        "id": "p5felhyDY0fA",
        "outputId": "3551b3b7-16f0-4cc2-ef0c-d937065b2011"
      },
      "execution_count": 23,
      "outputs": [
        {
          "output_type": "stream",
          "name": "stdout",
          "text": [
            "2434\n"
          ]
        }
      ]
    }
  ]
}