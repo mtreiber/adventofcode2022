{
  "nbformat": 4,
  "nbformat_minor": 0,
  "metadata": {
    "colab": {
      "provenance": [],
      "authorship_tag": "ABX9TyMaWYN481wu3XIDt+Z87MAS",
      "include_colab_link": true
    },
    "kernelspec": {
      "name": "python3",
      "display_name": "Python 3"
    },
    "language_info": {
      "name": "python"
    }
  },
  "cells": [
    {
      "cell_type": "markdown",
      "metadata": {
        "id": "view-in-github",
        "colab_type": "text"
      },
      "source": [
        "<a href=\"https://colab.research.google.com/github/mtreiber/adventofcode2022/blob/main/adventofcode2022_2.ipynb\" target=\"_parent\"><img src=\"https://colab.research.google.com/assets/colab-badge.svg\" alt=\"Open In Colab\"/></a>"
      ]
    },
    {
      "cell_type": "code",
      "execution_count": 1,
      "metadata": {
        "id": "bE-YpjnvQvft"
      },
      "outputs": [],
      "source": [
        "%load_ext autoreload\n",
        "%autoreload 2\n",
        "%matplotlib inline"
      ]
    },
    {
      "cell_type": "code",
      "source": [
        "import numpy as np\n",
        "import csv\n",
        "import math\n",
        "import struct\n",
        "import matplotlib.pyplot as plt\n",
        "import os\n",
        "\n",
        "from google.colab import drive\n",
        "drive.mount('/content/drive')"
      ],
      "metadata": {
        "id": "hjoBvGuNUDtK",
        "colab": {
          "base_uri": "https://localhost:8080/"
        },
        "outputId": "53cb11fa-73d6-42db-e8b6-e96fb9452722"
      },
      "execution_count": 2,
      "outputs": [
        {
          "output_type": "stream",
          "name": "stdout",
          "text": [
            "Mounted at /content/drive\n"
          ]
        }
      ]
    },
    {
      "cell_type": "code",
      "source": [
        "f = '/content/drive/MyDrive/Colab Notebooks/adventofcode2022/day2.txt'\n",
        "\n",
        "score_shape = {'X':1,'Y':2,'Z':3}\n",
        "score_card = {'A':{'X':3,'Y':6,'Z':0},'B':{'X':0,'Y':3,'Z':6},'C':{'X':6,'Y':0,'Z':3}}\n",
        "\n",
        "total = 0\n",
        "\n",
        "for l in open(f):\n",
        "  lc = l.split()\n",
        "  \n",
        "  #print(lc)\n",
        "\n",
        "  score_s = score_shape[lc[1]]\n",
        "  score_c = score_card[lc[0]][lc[1]]\n",
        "    \n",
        "  #print('{} {} {}'.format(l.split(),score_s,score_c))\n",
        "\n",
        "  total = total+score_s+score_c\n",
        "\n",
        "\n",
        "print(total)"
      ],
      "metadata": {
        "colab": {
          "base_uri": "https://localhost:8080/"
        },
        "id": "Jcp9apO-UD3x",
        "outputId": "45dc15d9-9d78-4804-b6b3-e9aee45597cb"
      },
      "execution_count": 10,
      "outputs": [
        {
          "output_type": "stream",
          "name": "stdout",
          "text": [
            "14827\n"
          ]
        }
      ]
    },
    {
      "cell_type": "code",
      "source": [
        "cal2 = calories\n",
        "cal2.sort(reverse=True)\n",
        "print(cal2)\n",
        "\n",
        "print(cal2[0]+cal2[1]+cal2[2])"
      ],
      "metadata": {
        "id": "iUIsKVh_gxvh"
      },
      "execution_count": null,
      "outputs": []
    }
  ]
}