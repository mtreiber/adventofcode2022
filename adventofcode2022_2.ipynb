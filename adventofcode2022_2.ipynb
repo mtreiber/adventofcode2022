{
  "nbformat": 4,
  "nbformat_minor": 0,
  "metadata": {
    "colab": {
      "provenance": [],
      "authorship_tag": "ABX9TyOrwjppG1GC06DBip4xrzN5",
      "include_colab_link": true
    },
    "kernelspec": {
      "name": "python3",
      "display_name": "Python 3"
    },
    "language_info": {
      "name": "python"
    }
  },
  "cells": [
    {
      "cell_type": "markdown",
      "metadata": {
        "id": "view-in-github",
        "colab_type": "text"
      },
      "source": [
        "<a href=\"https://colab.research.google.com/github/mtreiber/adventofcode2022/blob/main/adventofcode2022_2.ipynb\" target=\"_parent\"><img src=\"https://colab.research.google.com/assets/colab-badge.svg\" alt=\"Open In Colab\"/></a>"
      ]
    },
    {
      "cell_type": "code",
      "execution_count": 1,
      "metadata": {
        "id": "bE-YpjnvQvft"
      },
      "outputs": [],
      "source": [
        "%load_ext autoreload\n",
        "%autoreload 2\n",
        "%matplotlib inline"
      ]
    },
    {
      "cell_type": "code",
      "source": [
        "import numpy as np\n",
        "import csv\n",
        "import math\n",
        "import struct\n",
        "import matplotlib.pyplot as plt\n",
        "import os\n",
        "import urllib\n",
        "import requests\n",
        "\n",
        "#from google.colab import drive\n",
        "#drive.mount('/content/drive')"
      ],
      "metadata": {
        "id": "hjoBvGuNUDtK"
      },
      "execution_count": 20,
      "outputs": []
    },
    {
      "cell_type": "code",
      "source": [
        "#f = '/content/drive/MyDrive/Colab Notebooks/adventofcode2022/day2.txt'\n",
        "f_github = 'https://raw.githubusercontent.com/mtreiber/adventofcode2022/main/day2.txt'\n",
        "\n",
        "score_shape = {'X':1,'Y':2,'Z':3}\n",
        "score_card = {'A':{'X':3,'Y':6,'Z':0},'B':{'X':0,'Y':3,'Z':6},'C':{'X':6,'Y':0,'Z':3}}\n",
        "\n",
        "total = 0\n",
        "\n",
        "#for l in open(f):\n",
        "for l in urllib.request.urlopen(f_github):\n",
        "  lc = l.decode(\"utf-8\").split()\n",
        "\n",
        "  score_s = score_shape[lc[1]]\n",
        "  score_c = score_card[lc[0]][lc[1]]\n",
        "    \n",
        "  #print('{} {} {}'.format(lc,score_s,score_c))\n",
        "\n",
        "  total = total+score_s+score_c\n",
        "\n",
        "\n",
        "print(total)"
      ],
      "metadata": {
        "colab": {
          "base_uri": "https://localhost:8080/"
        },
        "id": "Jcp9apO-UD3x",
        "outputId": "11ed8584-965e-4e23-99f2-4b8d42ddb11e"
      },
      "execution_count": 34,
      "outputs": [
        {
          "output_type": "stream",
          "name": "stdout",
          "text": [
            "14827\n"
          ]
        }
      ]
    },
    {
      "cell_type": "code",
      "source": [
        "f_github = 'https://raw.githubusercontent.com/mtreiber/adventofcode2022/main/day2.txt'\n",
        "\n",
        "action = {'X': {'A': 'Z', 'B': 'X', 'C': 'Y'}, 'Y':{'A':'X','B':'Y','C':'Z'}, 'Z':{'A': 'Y', 'B': 'Z', 'C': 'X'}}\n",
        "score_shape = {'X':1,'Y':2,'Z':3}\n",
        "score_card = {'A':{'X':3,'Y':6,'Z':0},'B':{'X':0,'Y':3,'Z':6},'C':{'X':6,'Y':0,'Z':3}}\n",
        "\n",
        "total = 0\n",
        "\n",
        "#for l in open(f):\n",
        "for l in urllib.request.urlopen(f_github):\n",
        "  lc = l.decode(\"utf-8\").split()\n",
        "\n",
        "  play = action[lc[1]][lc[0]]\n",
        "  score_s = score_shape[play]\n",
        "  score_c = score_card[lc[0]][play]\n",
        "    \n",
        "  #print('{} {} {}'.format(lc,score_s,score_c))\n",
        "\n",
        "  total = total+score_s+score_c\n",
        "\n",
        "\n",
        "print(total)"
      ],
      "metadata": {
        "colab": {
          "base_uri": "https://localhost:8080/"
        },
        "id": "iUIsKVh_gxvh",
        "outputId": "6aef8be7-829b-455f-82ec-46a0facd379f"
      },
      "execution_count": 35,
      "outputs": [
        {
          "output_type": "stream",
          "name": "stdout",
          "text": [
            "13889\n"
          ]
        }
      ]
    }
  ]
}