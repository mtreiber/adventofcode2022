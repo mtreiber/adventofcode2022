{
  "nbformat": 4,
  "nbformat_minor": 0,
  "metadata": {
    "colab": {
      "provenance": [],
      "authorship_tag": "ABX9TyPUER/l2wQtMvDwJjYClLzC",
      "include_colab_link": true
    },
    "kernelspec": {
      "name": "python3",
      "display_name": "Python 3"
    },
    "language_info": {
      "name": "python"
    }
  },
  "cells": [
    {
      "cell_type": "markdown",
      "metadata": {
        "id": "view-in-github",
        "colab_type": "text"
      },
      "source": [
        "<a href=\"https://colab.research.google.com/github/mtreiber/adventofcode2022/blob/main/adventofcode2022_5.ipynb\" target=\"_parent\"><img src=\"https://colab.research.google.com/assets/colab-badge.svg\" alt=\"Open In Colab\"/></a>"
      ]
    },
    {
      "cell_type": "code",
      "execution_count": null,
      "metadata": {
        "id": "bE-YpjnvQvft"
      },
      "outputs": [],
      "source": [
        "%load_ext autoreload\n",
        "%autoreload 2\n",
        "%matplotlib inline"
      ]
    },
    {
      "cell_type": "code",
      "source": [
        "import numpy as np\n",
        "import csv\n",
        "import math\n",
        "import struct\n",
        "import matplotlib.pyplot as plt\n",
        "import os\n",
        "import urllib\n"
      ],
      "metadata": {
        "id": "hjoBvGuNUDtK"
      },
      "execution_count": null,
      "outputs": []
    },
    {
      "cell_type": "code",
      "source": [
        "f_github = 'https://raw.githubusercontent.com/mtreiber/adventofcode2022/main/day4.txt'\n",
        "\n",
        "count = 0\n",
        "for lr in urllib.request.urlopen(f_github):\n",
        "  l = lr.decode(\"utf-8\").strip()\n",
        "\n",
        "  r_str = l.split(',')\n",
        "  r1 = list(map(int,r_str[0].split('-')))\n",
        "  r2 = list(map(int,r_str[1].split('-')))\n",
        "\n",
        "\n",
        "  if r1[0]<=r2[0] and r1[1]>=r2[1]:\n",
        "    #r1 includes r2\n",
        "    count = count + 1\n",
        "  elif r2[0]<=r1[0] and r2[1]>=r1[1]:\n",
        "    #r2 includes r1\n",
        "    count = count + 1\n",
        "\n",
        "print(count)"
      ],
      "metadata": {
        "colab": {
          "base_uri": "https://localhost:8080/"
        },
        "id": "Jcp9apO-UD3x",
        "outputId": "5e397902-15f7-4ee5-9446-027d82dc47da"
      },
      "execution_count": null,
      "outputs": [
        {
          "output_type": "stream",
          "name": "stdout",
          "text": [
            "459\n"
          ]
        }
      ]
    },
    {
      "cell_type": "code",
      "source": [
        "f_github = 'https://raw.githubusercontent.com/mtreiber/adventofcode2022/main/day4.txt'\n",
        "\n",
        "count = 0\n",
        "for lr in urllib.request.urlopen(f_github):\n",
        "  l = lr.decode(\"utf-8\").strip()\n",
        "\n",
        "  r_str = l.split(',')\n",
        "  r1 = list(map(int,r_str[0].split('-')))\n",
        "  r2 = list(map(int,r_str[1].split('-')))\n",
        "\n",
        "  # Find out if they overlap\n",
        "  #if (r1[1]>=r2[0] and r1[0]<=r2[1]) or (r2[1]>=r1[0] and r2[0]<=r1[1]):\n",
        "  #  count = count + 1\n",
        "  #  print(\"{} {}\".format(r1,r2))\n",
        "  # betwwen 779 and 880\n",
        "\n",
        "  #if (r1[0]<r2[0] and r1[1]<r2[0]) or (r2[0]<r1[0] and r2[1]<r1[0]):\n",
        "  #  count = count+1\n",
        "  if not((r1[1]<r2[0]) or (r2[1]<r1[0])):\n",
        "    count = count+1\n",
        "\n",
        "print (count)"
      ],
      "metadata": {
        "colab": {
          "base_uri": "https://localhost:8080/"
        },
        "id": "2ChszvfZf7dp",
        "outputId": "f3a24ae4-db90-4a78-ea6b-a40e15126b2e"
      },
      "execution_count": null,
      "outputs": [
        {
          "output_type": "stream",
          "name": "stdout",
          "text": [
            "779\n"
          ]
        }
      ]
    }
  ]
}