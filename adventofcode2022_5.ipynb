{
  "nbformat": 4,
  "nbformat_minor": 0,
  "metadata": {
    "colab": {
      "provenance": [],
      "authorship_tag": "ABX9TyPJuIy1bRsYGCJXAsAVvMVw",
      "include_colab_link": true
    },
    "kernelspec": {
      "name": "python3",
      "display_name": "Python 3"
    },
    "language_info": {
      "name": "python"
    }
  },
  "cells": [
    {
      "cell_type": "markdown",
      "metadata": {
        "id": "view-in-github",
        "colab_type": "text"
      },
      "source": [
        "<a href=\"https://colab.research.google.com/github/mtreiber/adventofcode2022/blob/main/adventofcode2022_5.ipynb\" target=\"_parent\"><img src=\"https://colab.research.google.com/assets/colab-badge.svg\" alt=\"Open In Colab\"/></a>"
      ]
    },
    {
      "cell_type": "code",
      "execution_count": 1,
      "metadata": {
        "id": "bE-YpjnvQvft"
      },
      "outputs": [],
      "source": [
        "%load_ext autoreload\n",
        "%autoreload 2\n",
        "%matplotlib inline"
      ]
    },
    {
      "cell_type": "code",
      "source": [
        "f_github = 'https://raw.githubusercontent.com/mtreiber/adventofcode2022/main/day5.txt'\n",
        "\n",
        "init = True\n",
        "stacks = [[],[],[],[],[],[],[],[],[]]\n",
        "\n",
        "f = urllib.request.urlopen(f_github)\n",
        "for lr in f:\n",
        "  #print(lr)\n",
        "  l = lr.decode(\"utf-8\").rstrip()\n",
        "  if init:\n",
        "    print(l)\n",
        "    if l[1]=='1':\n",
        "      init = False\n",
        "      f.readline()\n",
        "      print(stacks)\n",
        "    else:\n",
        "      i=0\n",
        "      while 1:\n",
        "        cargo=l[i*4+1]\n",
        "        if cargo!=' ':\n",
        "          stacks[i].insert(0,cargo)\n",
        "\n",
        "        i=i+1\n",
        "        if i*4>len(l):\n",
        "          break\n",
        "\n",
        "  else:\n",
        "    # handle instructions\n",
        "    #print(l)\n",
        "    instruct = l.split()\n",
        "    for i in range(int(instruct[1])):\n",
        "      stacks[int(instruct[5])-1].append(stacks[int(instruct[3])-1][-1])\n",
        "      stacks[int(instruct[3])-1].pop()\n",
        "    #print(stacks)\n",
        "    #break\n",
        "  \n",
        "print(stacks)\n",
        "ans = ''\n",
        "for i in range(9):\n",
        "  ans = ans + stacks[i][-1]\n",
        "print(ans)import numpy as np\n",
        "import csv\n",
        "import math\n",
        "import struct\n",
        "import matplotlib.pyplot as plt\n",
        "import os\n",
        "import urllib\n"
      ],
      "metadata": {
        "id": "hjoBvGuNUDtK"
      },
      "execution_count": 2,
      "outputs": []
    },
    {
      "cell_type": "code",
      "source": [
        "f_github = 'https://raw.githubusercontent.com/mtreiber/adventofcode2022/main/day5.txt'\n",
        "\n",
        "init = True\n",
        "stacks = [[],[],[],[],[],[],[],[],[]]\n",
        "\n",
        "f = urllib.request.urlopen(f_github)\n",
        "for lr in f:\n",
        "  #print(lr)\n",
        "  l = lr.decode(\"utf-8\").rstrip()\n",
        "  if init:\n",
        "    print(l)\n",
        "    if l[1]=='1':\n",
        "      init = False\n",
        "      f.readline()\n",
        "      print(stacks)\n",
        "    else:\n",
        "      i=0\n",
        "      while 1:\n",
        "        cargo=l[i*4+1]\n",
        "        if cargo!=' ':\n",
        "          stacks[i].insert(0,cargo)\n",
        "\n",
        "        i=i+1\n",
        "        if i*4>len(l):\n",
        "          break\n",
        "\n",
        "  else:\n",
        "    # handle instructions\n",
        "    #print(l)\n",
        "    instruct = l.split()\n",
        "    temp = []\n",
        "    for i in range(int(instruct[1])):\n",
        "      temp.append(stacks[int(instruct[3])-1][-1])\n",
        "      stacks[int(instruct[3])-1].pop()\n",
        "    for i in range(int(instruct[1])):\n",
        "      stacks[int(instruct[5])-1].append(temp[-1])\n",
        "      temp.pop()\n",
        "      \n",
        "    #print(stacks)\n",
        "    #break\n",
        "  \n",
        "print(stacks)\n",
        "ans = ''\n",
        "for i in range(9):\n",
        "  ans = ans + stacks[i][-1]\n",
        "print(ans)"
      ],
      "metadata": {
        "colab": {
          "base_uri": "https://localhost:8080/"
        },
        "id": "Jcp9apO-UD3x",
        "outputId": "e802a80c-a7aa-4f4e-c9ed-7b2ade8c273e"
      },
      "execution_count": 14,
      "outputs": [
        {
          "output_type": "stream",
          "name": "stdout",
          "text": [
            "            [C]         [N] [R]\n",
            "[J] [T]     [H]         [P] [L]\n",
            "[F] [S] [T] [B]         [M] [D]\n",
            "[C] [L] [J] [Z] [S]     [L] [B]\n",
            "[N] [Q] [G] [J] [J]     [F] [F] [R]\n",
            "[D] [V] [B] [L] [B] [Q] [D] [M] [T]\n",
            "[B] [Z] [Z] [T] [V] [S] [V] [S] [D]\n",
            "[W] [P] [P] [D] [G] [P] [B] [P] [V]\n",
            " 1   2   3   4   5   6   7   8   9\n",
            "[['W', 'B', 'D', 'N', 'C', 'F', 'J'], ['P', 'Z', 'V', 'Q', 'L', 'S', 'T'], ['P', 'Z', 'B', 'G', 'J', 'T'], ['D', 'T', 'L', 'J', 'Z', 'B', 'H', 'C'], ['G', 'V', 'B', 'J', 'S'], ['P', 'S', 'Q'], ['B', 'V', 'D', 'F', 'L', 'M', 'P', 'N'], ['P', 'S', 'M', 'F', 'B', 'D', 'L', 'R'], ['V', 'D', 'T', 'R']]\n",
            "[['D', 'S', 'P', 'P', 'L', 'M', 'H', 'T'], ['P', 'P'], ['B', 'L', 'Q', 'C', 'S', 'N', 'F'], ['F'], ['M', 'V', 'T', 'D', 'B', 'S', 'D', 'R', 'Z', 'V', 'C', 'L', 'B'], ['B', 'T', 'J', 'P', 'G', 'F', 'S', 'B', 'W', 'D'], ['Z', 'V', 'L', 'N', 'R'], ['Q', 'T', 'J', 'B', 'Z', 'J', 'J'], ['V', 'G', 'D']]\n",
            "TPFFBDRJD\n"
          ]
        }
      ]
    },
    {
      "cell_type": "code",
      "source": [],
      "metadata": {
        "id": "XSyy6KheG1j2"
      },
      "execution_count": null,
      "outputs": []
    }
  ]
}