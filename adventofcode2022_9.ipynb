{
  "cells": [
    {
      "cell_type": "markdown",
      "metadata": {
        "id": "view-in-github",
        "colab_type": "text"
      },
      "source": [
        "<a href=\"https://colab.research.google.com/github/mtreiber/adventofcode2022/blob/main/adventofcode2022_9.ipynb\" target=\"_parent\"><img src=\"https://colab.research.google.com/assets/colab-badge.svg\" alt=\"Open In Colab\"/></a>"
      ]
    },
    {
      "cell_type": "code",
      "execution_count": 1,
      "metadata": {
        "id": "bE-YpjnvQvft"
      },
      "outputs": [],
      "source": [
        "%load_ext autoreload\n",
        "%autoreload 2\n",
        "%matplotlib inline"
      ]
    },
    {
      "cell_type": "code",
      "execution_count": 2,
      "metadata": {
        "id": "hjoBvGuNUDtK"
      },
      "outputs": [],
      "source": [
        "import numpy as np\n",
        "import csv\n",
        "import math\n",
        "import struct\n",
        "import matplotlib.pyplot as plt\n",
        "import os\n",
        "import urllib\n"
      ]
    },
    {
      "cell_type": "code",
      "execution_count": 5,
      "metadata": {
        "colab": {
          "base_uri": "https://localhost:8080/"
        },
        "id": "Jcp9apO-UD3x",
        "outputId": "ad8c510c-66de-4cba-95ae-4eea7a93c359"
      },
      "outputs": [
        {
          "output_type": "stream",
          "name": "stdout",
          "text": [
            "\n",
            "6354\n"
          ]
        }
      ],
      "source": [
        "f_github = 'https://raw.githubusercontent.com/mtreiber/adventofcode2022/main/day9.txt'\n",
        "\n",
        "dim = 10000\n",
        "\n",
        "class Day9:\n",
        "  def __init__(self,dim):\n",
        "    self.dim = dim\n",
        "    self.head = [int(dim/2),int(dim/2)]\n",
        "    self.tail = [int(dim/2),int(dim/2)]\n",
        "    self.position = np.zeros((dim,dim))\n",
        "    #print(self.position)\n",
        "\n",
        "    self.position[self.head[0],self.head[1]] = 1\n",
        "\n",
        "  def print(self):\n",
        "    for y in range(self.dim):\n",
        "      line = \"\"\n",
        "      for x in range(self.dim):\n",
        "        if self.head[0] == x and self.head[1] == y:\n",
        "          line = line + \"H\"\n",
        "        elif self.tail[0] == x and self.tail[1] == y:\n",
        "          line = line + \"T\"\n",
        "        else:\n",
        "          if self.position[x,y]>0:\n",
        "            line = line + \"{}\".format(int(self.position[x,y]))\n",
        "          else:\n",
        "            line = line + '.'\n",
        "          \n",
        "      print(line)\n",
        "\n",
        "  def left(self):\n",
        "    self.head = (self.head[0]-1,self.head[1])\n",
        "    self.movetail()\n",
        "\n",
        "  def right(self):\n",
        "    self.head = (self.head[0]+1,self.head[1])\n",
        "    self.movetail()\n",
        "\n",
        "  def up(self):\n",
        "    self.head = (self.head[0],self.head[1]-1)\n",
        "    self.movetail()\n",
        "\n",
        "  def down(self):\n",
        "    self.head = (self.head[0],self.head[1]+1)\n",
        "    self.movetail()\n",
        "\n",
        "  def movetail(self):\n",
        "    if self.head[1]==self.tail[1]:\n",
        "      # same row\n",
        "      if self.head[0]-self.tail[0]==2:\n",
        "        self.tail[0]=self.head[0]-1\n",
        "      elif self.head[0]-self.tail[0]==-2:\n",
        "        self.tail[0]=self.head[0]+1\n",
        "    elif self.head[0]==self.tail[0]:\n",
        "      # same colum\n",
        "      if self.head[1]-self.tail[1]==2:\n",
        "        self.tail[1]=self.head[1]-1\n",
        "      elif self.head[1]-self.tail[1]==-2:\n",
        "        self.tail[1]=self.head[1]+1\n",
        "    elif self.head[0]-self.tail[0]==2:\n",
        "      self.tail[0]=self.head[0]-1\n",
        "      self.tail[1]=self.head[1]\n",
        "    elif self.head[0]-self.tail[0]==-2:\n",
        "      self.tail[0]=self.head[0]+1\n",
        "      self.tail[1]=self.head[1]\n",
        "    elif self.head[1]-self.tail[1]==2:\n",
        "      self.tail[1]=self.head[1]-1\n",
        "      self.tail[0]=self.head[0]\n",
        "    elif self.head[1]-self.tail[1]==-2:\n",
        "      self.tail[1]=self.head[1]+1\n",
        "      self.tail[0]=self.head[0]\n",
        "\n",
        "    self.position[self.tail[0],self.tail[1]]=1 \n",
        "  def sum(self):\n",
        "    return np.sum(self.position) \n",
        "\n",
        "pos = Day9(dim)\n",
        "#pos.print()\n",
        "print('')\n",
        "\n",
        "count = 0\n",
        "for lr in urllib.request.urlopen(f_github):\n",
        "  l = lr.decode(\"utf-8\").strip()\n",
        "  #print(l)\n",
        "\n",
        "  cmd = l.split()\n",
        "  moves = int(cmd[1])\n",
        "  for i in range(0,moves):\n",
        "    if cmd[0] == 'L':\n",
        "      pos.left()\n",
        "    elif cmd[0] == 'R':\n",
        "      pos.right()\n",
        "    elif cmd[0] == 'U':\n",
        "      pos.up()\n",
        "    elif cmd[0] == 'D':\n",
        "      pos.down()\n",
        "    else:\n",
        "      print('unknown cmd')\n",
        "  #pos.print()\n",
        "\n",
        "  \n",
        "\n",
        "\n",
        "  count = count+1\n",
        "  if count>10000:\n",
        "    break\n",
        "\n",
        "\n",
        "print(int(pos.sum()))"
      ]
    }
  ],
  "metadata": {
    "colab": {
      "provenance": [],
      "authorship_tag": "ABX9TyMKdKcObbLwUjjEtCjHYwuY",
      "include_colab_link": true
    },
    "kernelspec": {
      "display_name": "Python 3",
      "name": "python3"
    },
    "language_info": {
      "name": "python"
    }
  },
  "nbformat": 4,
  "nbformat_minor": 0
}